{
  "nbformat": 4,
  "nbformat_minor": 0,
  "metadata": {
    "colab": {
      "provenance": []
    },
    "kernelspec": {
      "name": "python3",
      "display_name": "Python 3"
    },
    "language_info": {
      "name": "python"
    }
  },
  "cells": [
    {
      "cell_type": "code",
      "execution_count": 2,
      "metadata": {
        "colab": {
          "base_uri": "https://localhost:8080/"
        },
        "id": "AJoPdQfyWhHV",
        "outputId": "3ad3a8fe-c2bf-4d8f-d1ec-5edac40f1362"
      },
      "outputs": [
        {
          "output_type": "stream",
          "name": "stdout",
          "text": [
            "Requirement already satisfied: beautifulsoup4 in /usr/local/lib/python3.11/dist-packages (4.13.4)\n",
            "Requirement already satisfied: requests in /usr/local/lib/python3.11/dist-packages (2.32.3)\n",
            "Requirement already satisfied: soupsieve>1.2 in /usr/local/lib/python3.11/dist-packages (from beautifulsoup4) (2.7)\n",
            "Requirement already satisfied: typing-extensions>=4.0.0 in /usr/local/lib/python3.11/dist-packages (from beautifulsoup4) (4.13.2)\n",
            "Requirement already satisfied: charset-normalizer<4,>=2 in /usr/local/lib/python3.11/dist-packages (from requests) (3.4.2)\n",
            "Requirement already satisfied: idna<4,>=2.5 in /usr/local/lib/python3.11/dist-packages (from requests) (3.10)\n",
            "Requirement already satisfied: urllib3<3,>=1.21.1 in /usr/local/lib/python3.11/dist-packages (from requests) (2.4.0)\n",
            "Requirement already satisfied: certifi>=2017.4.17 in /usr/local/lib/python3.11/dist-packages (from requests) (2025.4.26)\n"
          ]
        }
      ],
      "source": [
        "!pip install beautifulsoup4 requests"
      ]
    },
    {
      "cell_type": "code",
      "source": [
        "import requests\n",
        "from bs4 import BeautifulSoup\n",
        "import os\n",
        "from urllib.parse import urljoin\n",
        "from google.colab import files\n",
        "import zipfile"
      ],
      "metadata": {
        "id": "yc2-9ktHWpYE"
      },
      "execution_count": 3,
      "outputs": []
    },
    {
      "cell_type": "code",
      "source": [
        "base_url =\"https://moh.gov.gh/policy-documents/\"\n",
        "save_dir=\"ghana_policy_pdfs\"\n",
        "\n",
        "os.makedirs(save_dir, exist_ok=True)\n"
      ],
      "metadata": {
        "id": "4HxRFpSJWplP"
      },
      "execution_count": 6,
      "outputs": []
    },
    {
      "cell_type": "code",
      "source": [
        "response = requests.get(base_url)\n",
        "soup = BeautifulSoup(response.content, \"html.parser\")\n",
        "\n",
        "pdf_links=[]\n",
        "for link in soup.find_all(\"a\",href=True):\n",
        "  href=link[\"href\"]\n",
        "  if href.endswith(\"pdf\"):\n",
        "    full_url=urljoin(base_url,href)\n",
        "    title = link.text.strip() or full_url.split(\"/\")[-1]\n",
        "    pdf_links.append((title, full_url))\n",
        ""
      ],
      "metadata": {
        "id": "uq3dhPntXc4z"
      },
      "execution_count": 9,
      "outputs": []
    },
    {
      "cell_type": "code",
      "source": [
        "for title, pdf_url in pdf_links:\n",
        "    filename = pdf_url.split(\"/\")[-1]\n",
        "    filepath = os.path.join(save_dir, filename)\n",
        "    try:\n",
        "        print(f\"Downloading: {title}\")\n",
        "        r = requests.get(pdf_url)\n",
        "        with open(filepath, \"wb\") as f:\n",
        "            f.write(r.content)\n",
        "    except Exception as e:\n",
        "        print(f\"Failed to download {pdf_url}: {e}\")"
      ],
      "metadata": {
        "colab": {
          "base_uri": "https://localhost:8080/"
        },
        "id": "wcsfdQEBXc8L",
        "outputId": "e7701b08-2436-47af-fc14-579a15e8a365"
      },
      "execution_count": 10,
      "outputs": [
        {
          "output_type": "stream",
          "name": "stdout",
          "text": [
            "Downloading: GHANA HEALTH SUPPLY CHAIN MASTER PLAN (2025-2029)\n",
            "Downloading: COMMON MANAGEMENT ARRANGEMENTS FOR IMPLEMENTATION OF THE HEALTH SECTOR MEDIUM TERM DEVELOPMENT PLAN (2022-2025)\n",
            "Downloading: National Surgical, Obstetric & Anaesthesia Plan for Ghana\n",
            "Downloading: Nursing and Midwifery Strategic Plan and Services Framework 2024-2028\n",
            "Downloading: Ghana Health Financing Strategy 2023 – 2030\n",
            "Downloading: Health Information System Strategic Plan 2022-2025\n",
            "Downloading: National Medical Oxygen Policy\n",
            "Downloading: Strategic Action Plan for the National Medical Oxygen Policy\n",
            "Downloading: Ghana NCD Policy 2022\n",
            "Downloading: National Food Safety Policy\n",
            "Downloading: Health Commodity Supply Chain Master Plan (2021-2025)\n",
            "Downloading: Ministry Of Health Client Service Charter\n",
            "Downloading: National Guidelines for Healthcare Management in Ghana\n",
            "Downloading: Health care waste management Policy for Ghana\n",
            "Downloading: National Health Policy (Revised Edition) 2020\n",
            "Downloading: National Medicines Policy (3rd edition, 2017\n",
            "Downloading: Policy on Antimicrobial Used and Resistance\n",
            "Downloading: Ghana National Action Plan on Antimicrobial Resistance (2017-2021)\n",
            "Downloading: ANTI-MALARIA DRUG POLICY\n",
            "Downloading: National CHPS Policy\n",
            "Downloading: Ghana National Drug Policy – 2nd Edition\n",
            "Downloading: Ghana E-Health\n",
            "Downloading: Guidelines for Strengthening A&E Services in Hospitals\n",
            "Downloading: Health Care Waste Management Policy and Guidelines\n",
            "Downloading: Health Sector Gender Policy\n",
            "Downloading: Health Sector ICT Policy and Strategy\n",
            "Downloading: Human Resource Health Policy & Plan\n",
            "Downloading: National Health Insurance Policy Framework\n",
            "Downloading: NATIONAL HEALTH POLICY\n",
            "Downloading: Occupational Health & Safety Policy & Guidelines for Health Sector\n",
            "Downloading: Policy and Legal Framework for HMIS\n",
            "Downloading: Private Health Sector Development Policy\n",
            "Downloading: TRADITIONAL MEDICINE POLICY\n",
            "Downloading: Referral Policy & Guidelines\n",
            "Downloading: CHPS Operational Policy\n",
            "Downloading: 2016 MAF strategy and operational plan- 24 April 2016 for MAF SC-2nd Draft 26042016\n"
          ]
        }
      ]
    },
    {
      "cell_type": "code",
      "source": [
        "zip_filename = \"ghana_policy_docs.zip\"\n",
        "with zipfile.ZipFile(zip_filename, \"w\") as zipf:\n",
        "    for root, _, files_list in os.walk(save_dir):\n",
        "        for file in files_list:\n",
        "            file_path = os.path.join(root, file)\n",
        "            zipf.write(file_path, os.path.relpath(file_path, save_dir))"
      ],
      "metadata": {
        "id": "RZettssWXdJf"
      },
      "execution_count": 11,
      "outputs": []
    },
    {
      "cell_type": "code",
      "source": [
        "files.download(zip_filename)\n"
      ],
      "metadata": {
        "colab": {
          "base_uri": "https://localhost:8080/",
          "height": 17
        },
        "id": "CsEe16doY0HQ",
        "outputId": "ae0dbdda-5de1-4243-94d9-e4a9205603e6"
      },
      "execution_count": 12,
      "outputs": [
        {
          "output_type": "display_data",
          "data": {
            "text/plain": [
              "<IPython.core.display.Javascript object>"
            ],
            "application/javascript": [
              "\n",
              "    async function download(id, filename, size) {\n",
              "      if (!google.colab.kernel.accessAllowed) {\n",
              "        return;\n",
              "      }\n",
              "      const div = document.createElement('div');\n",
              "      const label = document.createElement('label');\n",
              "      label.textContent = `Downloading \"${filename}\": `;\n",
              "      div.appendChild(label);\n",
              "      const progress = document.createElement('progress');\n",
              "      progress.max = size;\n",
              "      div.appendChild(progress);\n",
              "      document.body.appendChild(div);\n",
              "\n",
              "      const buffers = [];\n",
              "      let downloaded = 0;\n",
              "\n",
              "      const channel = await google.colab.kernel.comms.open(id);\n",
              "      // Send a message to notify the kernel that we're ready.\n",
              "      channel.send({})\n",
              "\n",
              "      for await (const message of channel.messages) {\n",
              "        // Send a message to notify the kernel that we're ready.\n",
              "        channel.send({})\n",
              "        if (message.buffers) {\n",
              "          for (const buffer of message.buffers) {\n",
              "            buffers.push(buffer);\n",
              "            downloaded += buffer.byteLength;\n",
              "            progress.value = downloaded;\n",
              "          }\n",
              "        }\n",
              "      }\n",
              "      const blob = new Blob(buffers, {type: 'application/binary'});\n",
              "      const a = document.createElement('a');\n",
              "      a.href = window.URL.createObjectURL(blob);\n",
              "      a.download = filename;\n",
              "      div.appendChild(a);\n",
              "      a.click();\n",
              "      div.remove();\n",
              "    }\n",
              "  "
            ]
          },
          "metadata": {}
        },
        {
          "output_type": "display_data",
          "data": {
            "text/plain": [
              "<IPython.core.display.Javascript object>"
            ],
            "application/javascript": [
              "download(\"download_5e2615af-5d7d-4479-958b-0773775ded22\", \"ghana_policy_docs.zip\", 224807777)"
            ]
          },
          "metadata": {}
        }
      ]
    }
  ]
}